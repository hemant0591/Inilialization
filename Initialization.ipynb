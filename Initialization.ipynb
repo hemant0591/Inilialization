{
 "cells": [
  {
   "cell_type": "code",
   "execution_count": 1,
   "id": "4a0ef540-298e-4d82-9237-5b547aba32ea",
   "metadata": {},
   "outputs": [],
   "source": [
    "import pickle,gzip,math,os,time,shutil,torch,matplotlib as mpl,numpy as np,matplotlib.pyplot as plt\n",
    "import sys,gc,traceback\n",
    "import fastcore.all as fc\n",
    "from collections.abc import Mapping\n",
    "from pathlib import Path\n",
    "from operator import attrgetter,itemgetter\n",
    "from functools import partial\n",
    "from copy import copy\n",
    "from contextlib import contextmanager\n",
    "\n",
    "import torchvision.transforms.functional as TF,torch.nn.functional as F\n",
    "from torch import tensor,nn,optim\n",
    "\n",
    "from torch.utils.data import DataLoader\n",
    "from torch.utils.data.dataloader import default_collate\n",
    "from torch.nn import init\n",
    "from torcheval.metrics import MulticlassAccuracy\n",
    "from datasets import load_dataset,load_dataset_builder\n",
    "\n",
    "from miniai.datasets import *\n",
    "from miniai.conv import *\n",
    "from miniai.learner import *\n",
    "from miniai.activations import *"
   ]
  },
  {
   "cell_type": "code",
   "execution_count": 2,
   "id": "69586b00-1478-42a2-a271-c9686a0d722b",
   "metadata": {},
   "outputs": [],
   "source": [
    "from fastcore.test import test_close\n",
    "\n",
    "torch.set_printoptions(precision=2, linewidth=140, sci_mode=False)\n",
    "torch.manual_seed(1)\n",
    "\n",
    "import logging\n",
    "logging.disable(logging.WARNING)\n",
    "\n",
    "set_seed(42)"
   ]
  },
  {
   "cell_type": "code",
   "execution_count": 3,
   "id": "43c1789d-3ef7-43cd-90af-40acb370dbf0",
   "metadata": {},
   "outputs": [
    {
     "data": {
      "application/vnd.jupyter.widget-view+json": {
       "model_id": "e333020d66dd4b978855f2b8379556da",
       "version_major": 2,
       "version_minor": 0
      },
      "text/plain": [
       "  0%|          | 0/2 [00:00<?, ?it/s]"
      ]
     },
     "metadata": {},
     "output_type": "display_data"
    },
    {
     "data": {
      "text/plain": [
       "(torch.Size([1024, 1, 28, 28]), tensor([5, 7, 4, 7, 3, 8, 9, 5, 3, 1]))"
      ]
     },
     "execution_count": 3,
     "metadata": {},
     "output_type": "execute_result"
    }
   ],
   "source": [
    "xl,yl = 'image','label'\n",
    "name = \"fashion_mnist\"\n",
    "dsd = load_dataset(name)\n",
    "\n",
    "@inplace\n",
    "def transformi(b): b[xl] = [TF.to_tensor(o) for o in b[xl]]\n",
    "\n",
    "bs = 1024\n",
    "tds = dsd.with_transform(transformi)\n",
    "\n",
    "dls = DataLoaders.from_dd(tds, bs, num_workers=4)\n",
    "dt = dls.train\n",
    "xb,yb = next(iter(dt))\n",
    "xb.shape,yb[:10]"
   ]
  },
  {
   "cell_type": "markdown",
   "id": "21a01cb3-4103-440e-80d7-da0d08625129",
   "metadata": {},
   "source": [
    "def get_model():\n",
    "    return nn.Sequential(conv(1 ,8), conv(8 ,16), conv(16,32), conv(32,64),\n",
    "                         conv(64,10, act=False), nn.Flatten()).to(def_device)"
   ]
  },
  {
   "cell_type": "code",
   "execution_count": 5,
   "id": "796210a3-27a1-47f4-a941-fcdc7879fffd",
   "metadata": {},
   "outputs": [],
   "source": [
    "from fastcore.basics import get_annotations_ex\n",
    "#get_annotations_ex??"
   ]
  },
  {
   "cell_type": "markdown",
   "id": "5fb7d86c-33f3-4e6a-80e2-49aa39511cb4",
   "metadata": {},
   "source": [
    "Looking at the source code of \"get_annotation_ex\", this function is trying to return a tuple of dict(annotations), gloabls and locals associated with the function"
   ]
  },
  {
   "cell_type": "markdown",
   "id": "49b95c6a-744b-4354-9374-9fc45dddf152",
   "metadata": {},
   "source": [
    "#### Understanding Annotations in Python\n",
    "Annotations are a way to attach type (or other) information to function parameters and return values."
   ]
  },
  {
   "cell_type": "code",
   "execution_count": 6,
   "id": "ed997def-ebd3-4740-a76a-649e5c2aea05",
   "metadata": {},
   "outputs": [
    {
     "data": {
      "text/plain": [
       "\"Hello Hemant, I'm 33 years old.\""
      ]
     },
     "execution_count": 6,
     "metadata": {},
     "output_type": "execute_result"
    }
   ],
   "source": [
    "def greet(name: str, age: int) -> str:\n",
    "    return f\"Hello {name}, I'm {age} years old.\"\n",
    "\n",
    "greet('Hemant', 33)"
   ]
  },
  {
   "cell_type": "markdown",
   "id": "cba90be2-cae8-47f9-81fe-5c44c73b91ea",
   "metadata": {},
   "source": [
    "Here:\n",
    "\n",
    "name: str and age: int are parameter annotations\n",
    "\n",
    "-> str is the return annotation\n",
    "\n",
    "We can access these like this:"
   ]
  },
  {
   "cell_type": "code",
   "execution_count": 7,
   "id": "c9f09b12-da1c-4931-8083-975afbc69a40",
   "metadata": {},
   "outputs": [
    {
     "name": "stdout",
     "output_type": "stream",
     "text": [
      "{'name': <class 'str'>, 'age': <class 'int'>, 'return': <class 'str'>}\n"
     ]
    }
   ],
   "source": [
    "print(greet.__annotations__)"
   ]
  },
  {
   "cell_type": "markdown",
   "id": "28516a46-95bd-407f-9680-725adcfb9725",
   "metadata": {},
   "source": [
    "#### Understanding Globals in Python\n",
    "\n",
    "Every function in Python remembers the global namespace (i.e., module-level variables and imports) in which it was defined."
   ]
  },
  {
   "cell_type": "code",
   "execution_count": 8,
   "id": "f8075803-c90c-4195-9c28-8c6e1890bba5",
   "metadata": {},
   "outputs": [],
   "source": [
    "PI = 3.14  # global\n",
    "\n",
    "def area(radius: float) -> float:\n",
    "    return PI * radius * radius"
   ]
  },
  {
   "cell_type": "code",
   "execution_count": 9,
   "id": "c6a72899-8378-4839-9b48-223432e43271",
   "metadata": {},
   "outputs": [
    {
     "data": {
      "text/plain": [
       "3.14"
      ]
     },
     "execution_count": 9,
     "metadata": {},
     "output_type": "execute_result"
    }
   ],
   "source": [
    "area.__globals__['PI'] # area_globals__ returns a dict, with all the global variables and their values in the notebook"
   ]
  },
  {
   "cell_type": "markdown",
   "id": "915c2307-094d-4a6b-b83f-eb051afb6864",
   "metadata": {},
   "source": [
    "#### Understanding Locals in Python\n",
    "\n",
    "Local variables are defined within a function or block.\n",
    "\n",
    "We can get local variables using locals() inside a function, or from the current frame outside."
   ]
  },
  {
   "cell_type": "code",
   "execution_count": 10,
   "id": "66b9c662-4eaf-4b7a-9c5b-5aea0c36a746",
   "metadata": {},
   "outputs": [
    {
     "name": "stdout",
     "output_type": "stream",
     "text": [
      "{'x': 10, 'y': 11}\n"
     ]
    }
   ],
   "source": [
    "def show_locals(x):\n",
    "    y = x + 1\n",
    "    print(locals())\n",
    "\n",
    "show_locals(10)  # x and y are local variable to the funtion"
   ]
  },
  {
   "cell_type": "code",
   "execution_count": 11,
   "id": "fb0b2ded-9385-496e-b9a7-06e96c3babc4",
   "metadata": {},
   "outputs": [
    {
     "data": {
      "text/plain": [
       "3.14"
      ]
     },
     "execution_count": 11,
     "metadata": {},
     "output_type": "execute_result"
    }
   ],
   "source": [
    "show_locals.__globals__['PI'] # but this function still has a global variable"
   ]
  },
  {
   "cell_type": "markdown",
   "id": "3e2f8f73-ab9d-4291-8ffb-5df0a4977a20",
   "metadata": {},
   "source": [
    "#### Understanding how @fc.patch adds lr_find as a method to the learner class\n",
    "Here's the source code for @fc_patch and lr_find, the get_annotation_ex gets passed the lr_find function through the decorator, let's see what it returns"
   ]
  },
  {
   "cell_type": "code",
   "execution_count": 12,
   "id": "5e852f36-e9f4-4e9c-9071-db837a2e6055",
   "metadata": {},
   "outputs": [],
   "source": [
    "#@fc.patch??"
   ]
  },
  {
   "cell_type": "code",
   "execution_count": 13,
   "id": "160b1f8b-4a82-4c31-880d-1d684c64b2ee",
   "metadata": {},
   "outputs": [],
   "source": [
    "# @fc.patch\n",
    "# def lr_find(self:Learner, gamma=1.3, max_mult=3, start_lr=1e-5, max_epochs=10):\n",
    "#     self.fit(max_epochs, lr=start_lr, cbs=LRFinderCB(gamma=gamma, max_mult=max_mult))"
   ]
  },
  {
   "cell_type": "code",
   "execution_count": 14,
   "id": "3a52e10f-c570-45cc-9180-698f77bea158",
   "metadata": {},
   "outputs": [],
   "source": [
    "# ann, glb, loc = get_annotations_ex(lr_find) # annotation contains that it's a miniai learner object\n",
    "# ann #{'self': miniai.learner.Learner}"
   ]
  },
  {
   "cell_type": "code",
   "execution_count": 15,
   "id": "900f5e6b-426c-46b0-aa46-75bcb35ea9c5",
   "metadata": {},
   "outputs": [],
   "source": [
    "#from fastcore.basics import union2tuple, eval_type, patch_to"
   ]
  },
  {
   "cell_type": "code",
   "execution_count": 16,
   "id": "88ad3983-794b-4a72-a284-8b6dee5e3077",
   "metadata": {},
   "outputs": [],
   "source": [
    "# cls = eval_type(ann.pop('cls') if False else next(iter(ann.values())), glb, loc)\n",
    "# cls #miniai.learner.Learner"
   ]
  },
  {
   "cell_type": "code",
   "execution_count": 17,
   "id": "51fb68a1-3e2b-496c-ae43-a034d976242f",
   "metadata": {},
   "outputs": [],
   "source": [
    "#pt = patch_to(cls, as_prop=False, cls_method=False, set_prop=False)(lr_find)"
   ]
  },
  {
   "cell_type": "code",
   "execution_count": 18,
   "id": "223a3ab8-4438-4360-8ee8-9b5999313fb8",
   "metadata": {},
   "outputs": [],
   "source": [
    "#patch_to??"
   ]
  },
  {
   "cell_type": "markdown",
   "id": "c0b50df9-18ad-4984-80c3-440287ef39eb",
   "metadata": {},
   "source": [
    "#### Understanding the patch_to function:\n",
    "Okay, a lot of Python going on here, buckle up\n",
    "\n",
    "##### def patch_to(cls, as_prop=False, cls_method=False, set_prop=False):  \n",
    "\n",
    "Returns a decorator that, when applied to a function, attaches that function to the given class (or classes).\n",
    "\n",
    "Think of it as:\n",
    "\n",
    "##### @patch_to(Learner)   \n",
    "##### def new_method(self): ...\n",
    "\n",
    "Becomes:\n",
    "\n",
    "##### Learner.new_method = new_method   \n",
    "But with extra features like handling @classmethod, @property, etc.\n",
    "\n",
    "#### Define inner decorator\n",
    "\n",
    "##### def _inner(f): ...\n",
    "This is the actual decorator that modifies the class.\n",
    "\n",
    "#### copy_func\n",
    "\n",
    "##### nf = copy_func(f)\n",
    "Makes a copy of the function f. This avoids side effects like double-decorating or overwriting the original.\n",
    "\n",
    "#### Update wrapper metadata\n",
    "##### for o in functools.WRAPPER_ASSIGNMENTS: setattr(nf, o, getattr(f, o))\n",
    "This copies metadata like __name__, __doc__, etc., so tools like help() still work on the new method.\n",
    "\n",
    "#### Update qualified name (nice for debugging)\n",
    "\n",
    "##### nf.__qualname__ = f\"{c_.__name__}.{nm}\"\n",
    "\n",
    "For example, Learner.lr_find\n",
    "\n",
    "#### Attach function to class\n",
    "\n",
    "##### if cls_method:\n",
    "#####    setattr(c_, nm, _clsmethod(nf))\n",
    "##### elif set_prop:\n",
    "#####    setattr(c_, nm, getattr(c_, nm).setter(nf))\n",
    "##### elif as_prop:\n",
    "#####    setattr(c_, nm, property(nf))\n",
    "\n",
    "This handles:\n",
    "\n",
    "@classmethod\n",
    "\n",
    ".setter for a property\n",
    "\n",
    "@property\n",
    "\n",
    "#### Default: attach normally, preserve original\n",
    "\n",
    "##### else:\n",
    "#####    onm = '_orig_' + nm\n",
    "#####    if hasattr(c_, nm) and not hasattr(c_, onm):\n",
    "#####        setattr(c_, onm, getattr(c_, nm))  # backup original\n",
    "#####    setattr(c_, nm, nf)\n",
    "\n",
    "So if Learner already had a method named nm (say lr_find), it will:\n",
    "\n",
    "Save it as Learner._orig_lr_find\n",
    "\n",
    "Overwrite Learner.lr_find with the new method\n",
    "\n",
    "#### Return something safe\n",
    "\n",
    "##### return globals().get(nm, builtins.__dict__.get(nm, None))\n",
    "This avoids polluting the module's namespace. It doesn't return nf directly, because this decorator is mostly used for its side effect (patching the class), not its return value."
   ]
  },
  {
   "cell_type": "code",
   "execution_count": 19,
   "id": "1f39d9de-7b77-4fa4-b812-538271345eab",
   "metadata": {},
   "outputs": [],
   "source": [
    "# So now we can do this, even though there wasn't a foo method in our Learner class\n",
    "\n",
    "# @patch_to(Learner, cls_method=True)\n",
    "# def foo(cls: Learner):  # Note: use `cls` not `self`\n",
    "#     return f\"Hi from {cls.__name__}\"\n",
    "\n",
    "# Learner.foo() #'Hi from Learner'"
   ]
  },
  {
   "cell_type": "code",
   "execution_count": 20,
   "id": "b79cef04-f296-40a6-896a-bc77b0cc2ccc",
   "metadata": {},
   "outputs": [],
   "source": [
    "# @patch_to(Learner)\n",
    "# def foo(self):\n",
    "#     print('Hi')\n",
    "\n",
    "#Learner.foo() #TypeError: foo() missing 1 required positional argument: 'self'"
   ]
  },
  {
   "cell_type": "markdown",
   "id": "fb7a3ba5-2b59-4a8d-9caf-d7949a790640",
   "metadata": {},
   "source": [
    "### Understanding instance method, class method and static method"
   ]
  },
  {
   "cell_type": "code",
   "execution_count": 21,
   "id": "e446ce2c-b7e5-40fc-9ad8-223915ef88bb",
   "metadata": {},
   "outputs": [
    {
     "name": "stdout",
     "output_type": "stream",
     "text": [
      "Hi from instance: <__main__.MyClass object at 0x7fcf845c9ca0>\n"
     ]
    }
   ],
   "source": [
    "# Instance method\n",
    "\n",
    "class MyClass:\n",
    "    def hello(self):\n",
    "        return f\"Hi from instance: {self}\"\n",
    "\n",
    "obj = MyClass()\n",
    "print(obj.hello())\n",
    "#print(MyClass.hello())  # TypeError: missing 1 required positional argument: 'self'"
   ]
  },
  {
   "cell_type": "code",
   "execution_count": 22,
   "id": "05858cfa-c4f4-4002-adb1-ffed216de9c8",
   "metadata": {},
   "outputs": [
    {
     "name": "stdout",
     "output_type": "stream",
     "text": [
      "Hi from class: <class '__main__.MyClass'>\n"
     ]
    }
   ],
   "source": [
    "# Class Method\n",
    "\n",
    "class MyClass:\n",
    "    @classmethod\n",
    "    def hello(cls):\n",
    "        return f\"Hi from class: {cls}\"\n",
    "\n",
    "print(MyClass.hello()) # no instance is needed — Python passes the class (cls) for us."
   ]
  },
  {
   "cell_type": "code",
   "execution_count": 23,
   "id": "6e48c31b-8b46-42d7-af05-701f810a4cef",
   "metadata": {},
   "outputs": [
    {
     "name": "stdout",
     "output_type": "stream",
     "text": [
      "Hi\n"
     ]
    },
    {
     "data": {
      "text/plain": [
       "'Hi'"
      ]
     },
     "execution_count": 23,
     "metadata": {},
     "output_type": "execute_result"
    }
   ],
   "source": [
    "# Static method\n",
    "\n",
    "class MyClass:\n",
    "    @staticmethod\n",
    "    def hello():\n",
    "        return 'Hi'\n",
    "            \n",
    "print(MyClass.hello()) #Static methods are just functions attached to the class — no self or cls is passed.\n",
    "obj = MyClass()\n",
    "obj.hello() #if we comment out @static method and try to run this code\n",
    "            #obj.hello() treats hello as an instance method, \n",
    "            #so Python automatically passes self — but your function doesn’t accept any arguments, so it crashes with\n",
    "            #TypeError: hello() takes 0 positional arguments but 1 was given"
   ]
  },
  {
   "cell_type": "markdown",
   "id": "fe585f03-85d2-46cf-8188-c3aaa5e5a58c",
   "metadata": {},
   "source": [
    "### Understanding wrapper assignments"
   ]
  },
  {
   "cell_type": "code",
   "execution_count": 24,
   "id": "8bd1083f-03af-4976-a831-c0b2904dd596",
   "metadata": {},
   "outputs": [
    {
     "name": "stdout",
     "output_type": "stream",
     "text": [
      "__module__\n",
      "__name__\n",
      "__qualname__\n",
      "__doc__\n",
      "__annotations__\n"
     ]
    }
   ],
   "source": [
    "import functools\n",
    "for o in functools.WRAPPER_ASSIGNMENTS:\n",
    "    print(o)"
   ]
  },
  {
   "cell_type": "code",
   "execution_count": 25,
   "id": "038b2148-9397-4647-ac5c-3268d13e3ad7",
   "metadata": {},
   "outputs": [],
   "source": [
    "def greet(name: str) -> str:\n",
    "    \"\"\"Say hello to someone\"\"\"\n",
    "    return f\"Hello, {name}\""
   ]
  },
  {
   "cell_type": "code",
   "execution_count": 26,
   "id": "90c20212-57cf-47e4-95df-bc1235fbd410",
   "metadata": {},
   "outputs": [],
   "source": [
    "class Person:\n",
    "    def say_hi(self, name):\n",
    "        return f\"Hello {name}\""
   ]
  },
  {
   "cell_type": "code",
   "execution_count": 27,
   "id": "35c7e993-7b4a-4c44-96b1-fdbe1aff76d3",
   "metadata": {},
   "outputs": [
    {
     "name": "stdout",
     "output_type": "stream",
     "text": [
      "__main__\n"
     ]
    }
   ],
   "source": [
    "## Output: '__main__' if in a script or notebook\n",
    "# If this was defined in a file called utils.py, it would be 'utils'.\n",
    "print(greet.__module__)"
   ]
  },
  {
   "cell_type": "code",
   "execution_count": 28,
   "id": "d4bb5c81-ef8d-45c3-b780-4d5d81577397",
   "metadata": {},
   "outputs": [
    {
     "name": "stdout",
     "output_type": "stream",
     "text": [
      "greet\n"
     ]
    }
   ],
   "source": [
    "print(greet.__name__) #name of the function"
   ]
  },
  {
   "cell_type": "code",
   "execution_count": 29,
   "id": "87b3a8f0-62d6-4af4-b8ea-99f73c37ca09",
   "metadata": {},
   "outputs": [
    {
     "name": "stdout",
     "output_type": "stream",
     "text": [
      "greet\n"
     ]
    }
   ],
   "source": [
    "print(greet.__qualname__) #name of the function"
   ]
  },
  {
   "cell_type": "code",
   "execution_count": 30,
   "id": "3b1ee171-8544-4095-a647-8269a1bb394e",
   "metadata": {},
   "outputs": [
    {
     "name": "stdout",
     "output_type": "stream",
     "text": [
      "Say hello to someone\n"
     ]
    }
   ],
   "source": [
    "print(greet.__doc__) #qualname of the function"
   ]
  },
  {
   "cell_type": "code",
   "execution_count": 31,
   "id": "5afe8caf-0c64-43ba-81de-89bf3c26e021",
   "metadata": {},
   "outputs": [
    {
     "name": "stdout",
     "output_type": "stream",
     "text": [
      "{'name': <class 'str'>, 'return': <class 'str'>}\n"
     ]
    }
   ],
   "source": [
    "print(greet.__annotations__) #annotations"
   ]
  },
  {
   "cell_type": "code",
   "execution_count": 32,
   "id": "d17f14a4-6e5e-486d-9238-aebe18e59a7b",
   "metadata": {},
   "outputs": [
    {
     "name": "stdout",
     "output_type": "stream",
     "text": [
      "say_hi\n"
     ]
    }
   ],
   "source": [
    "print(Person.say_hi.__name__) #name of the function"
   ]
  },
  {
   "cell_type": "code",
   "execution_count": 33,
   "id": "67580096-9aec-4e1f-a60d-9389ed2839fc",
   "metadata": {},
   "outputs": [
    {
     "name": "stdout",
     "output_type": "stream",
     "text": [
      "Person.say_hi\n"
     ]
    }
   ],
   "source": [
    "print(Person.say_hi.__qualname__) #name of the function (inside a class that's why Person.say_hi)"
   ]
  },
  {
   "cell_type": "markdown",
   "id": "d4ac48f0-b919-4cd6-a631-d84686b8a5b7",
   "metadata": {},
   "source": [
    "### Back to Initialization"
   ]
  },
  {
   "cell_type": "code",
   "execution_count": 34,
   "id": "4b14b38a-76ad-4771-8806-e14ac6fbd0ff",
   "metadata": {},
   "outputs": [
    {
     "data": {
      "image/png": "[encoded data removed]",
      "text/plain": [
       "<Figure size 432x288 with 1 Axes>"
      ]
     },
     "metadata": {
      "needs_background": "light"
     },
     "output_type": "display_data"
    }
   ],
   "source": [
    "MomentumLearner(get_model(), dls, F.cross_entropy, cbs=[DeviceCB()]).lr_find(gamma=1.1, start_lr=1e-2)"
   ]
  },
  {
   "cell_type": "code",
   "execution_count": 35,
   "id": "8ebe6f2d-1ff4-49ab-bfc3-2331269cb174",
   "metadata": {},
   "outputs": [],
   "source": [
    "metrics = MetricsCB(accuracy=MulticlassAccuracy())\n",
    "astats = ActivationStats(fc.risinstance(nn.ReLU))\n",
    "cbs = [DeviceCB(), metrics, ProgressCB(plot=True), astats]\n",
    "learn = MomentumLearner(get_model(), dls, F.cross_entropy, lr=0.2, cbs=cbs)"
   ]
  },
  {
   "cell_type": "code",
   "execution_count": 36,
   "id": "b12375d5-169c-454e-9425-31bde5c0aa85",
   "metadata": {},
   "outputs": [
    {
     "data": {
      "text/html": [
       "\n",
       "<style>\n",
       "    /* Turns off some styling */\n",
       "    progress {\n",
       "        /* gets rid of default border in Firefox and Opera. */\n",
       "        border: none;\n",
       "        /* Needs to be in here for Safari polyfill so background images work as expected. */\n",
       "        background-size: auto;\n",
       "    }\n",
       "    progress:not([value]), progress:not([value])::-webkit-progress-bar {\n",
       "        background: repeating-linear-gradient(45deg, #7e7e7e, #7e7e7e 10px, #5c5c5c 10px, #5c5c5c 20px);\n",
       "    }\n",
       "    .progress-bar-interrupted, .progress-bar-interrupted::-webkit-progress-bar {\n",
       "        background: #F44336;\n",
       "    }\n",
       "</style>\n"
      ],
      "text/plain": [
       "<IPython.core.display.HTML object>"
      ]
     },
     "metadata": {},
     "output_type": "display_data"
    },
    {
     "data": {
      "text/html": [
       "<table border=\"1\" class=\"dataframe\">\n",
       "  <thead>\n",
       "    <tr style=\"text-align: left;\">\n",
       "      <th>accuracy</th>\n",
       "      <th>loss</th>\n",
       "      <th>epoch</th>\n",
       "      <th>train</th>\n",
       "    </tr>\n",
       "  </thead>\n",
       "  <tbody>\n",
       "    <tr>\n",
       "      <td>0.256</td>\n",
       "      <td>2.028</td>\n",
       "      <td>0</td>\n",
       "      <td>train</td>\n",
       "    </tr>\n",
       "    <tr>\n",
       "      <td>0.596</td>\n",
       "      <td>1.072</td>\n",
       "      <td>0</td>\n",
       "      <td>eval</td>\n",
       "    </tr>\n",
       "  </tbody>\n",
       "</table>"
      ],
      "text/plain": [
       "<IPython.core.display.HTML object>"
      ]
     },
     "metadata": {},
     "output_type": "display_data"
    },
    {
     "data": {
      "image/png": "[encoded data removed]",
      "text/plain": [
       "<Figure size 432x288 with 1 Axes>"
      ]
     },
     "metadata": {},
     "output_type": "display_data"
    }
   ],
   "source": [
    "learn.fit(1)"
   ]
  },
  {
   "cell_type": "code",
   "execution_count": 37,
   "id": "86511eea-f592-45d0-b8c5-05d4c80e2fa2",
   "metadata": {},
   "outputs": [
    {
     "data": {
      "image/png": "[encoded data removed]",
      "text/plain": [
       "<Figure size 792x360 with 4 Axes>"
      ]
     },
     "metadata": {},
     "output_type": "display_data"
    }
   ],
   "source": [
    "astats.color_dim()"
   ]
  },
  {
   "cell_type": "code",
   "execution_count": 38,
   "id": "cdb690ae-9025-496b-aa74-005cbc9f450d",
   "metadata": {},
   "outputs": [
    {
     "data": {
      "image/png": "[encoded data removed]",
      "text/plain": [
       "<Figure size 720x288 with 2 Axes>"
      ]
     },
     "metadata": {
      "needs_background": "light"
     },
     "output_type": "display_data"
    }
   ],
   "source": [
    "astats.plot_stats()"
   ]
  },
  {
   "cell_type": "code",
   "execution_count": 39,
   "id": "26b23b0e-be97-489f-9cc2-80beafc83196",
   "metadata": {},
   "outputs": [],
   "source": [
    "#|export\n",
    "def clean_ipython_hist():\n",
    "    # Code in this function mainly copied from IPython source\n",
    "    if not 'get_ipython' in globals(): return\n",
    "    ip = get_ipython()\n",
    "    user_ns = ip.user_ns\n",
    "    ip.displayhook.flush()\n",
    "    pc = ip.displayhook.prompt_count + 1\n",
    "    for n in range(1, pc): user_ns.pop('_i'+repr(n),None)\n",
    "    user_ns.update(dict(_i='',_ii='',_iii=''))\n",
    "    hm = ip.history_manager\n",
    "    hm.input_hist_parsed[:] = [''] * pc\n",
    "    hm.input_hist_raw[:] = [''] * pc\n",
    "    hm._i = hm._ii = hm._iii = hm._i00 =  ''"
   ]
  },
  {
   "cell_type": "code",
   "execution_count": 40,
   "id": "469ac667-d821-4617-a3af-69a361182ffe",
   "metadata": {},
   "outputs": [],
   "source": [
    "#|export\n",
    "def clean_tb():\n",
    "    # h/t Piotr Czapla\n",
    "    if hasattr(sys, 'last_traceback'):\n",
    "        traceback.clear_frames(sys.last_traceback)\n",
    "        delattr(sys, 'last_traceback')\n",
    "    if hasattr(sys, 'last_type'): delattr(sys, 'last_type')\n",
    "    if hasattr(sys, 'last_value'): delattr(sys, 'last_value')"
   ]
  },
  {
   "cell_type": "code",
   "execution_count": 41,
   "id": "26bc1839-8eae-4c9b-9231-7f186f04413c",
   "metadata": {},
   "outputs": [],
   "source": [
    "#|export\n",
    "def clean_mem():\n",
    "    clean_tb()\n",
    "    clean_ipython_hist()\n",
    "    gc.collect()\n",
    "    torch.cuda.empty_cache()"
   ]
  },
  {
   "cell_type": "markdown",
   "id": "fa63e9ed-640d-4bb2-a598-19424d2a2d82",
   "metadata": {},
   "source": [
    "### Glorot/Xavier init"
   ]
  },
  {
   "cell_type": "code",
   "execution_count": 42,
   "id": "61196d0b-e79c-4c7a-8ed4-6967e8a9555b",
   "metadata": {},
   "outputs": [
    {
     "data": {
      "text/plain": [
       "tensor([[nan, nan, nan, nan, nan],\n",
       "        [nan, nan, nan, nan, nan],\n",
       "        [nan, nan, nan, nan, nan],\n",
       "        [nan, nan, nan, nan, nan],\n",
       "        [nan, nan, nan, nan, nan]])"
      ]
     },
     "execution_count": 42,
     "metadata": {},
     "output_type": "execute_result"
    }
   ],
   "source": [
    "x = torch.randn(200, 100)\n",
    "for i in range(50): x = x @ torch.randn(100, 100)\n",
    "x[:5,:5]"
   ]
  },
  {
   "cell_type": "code",
   "execution_count": 43,
   "id": "5f9ca3f6-8c1f-4790-8936-bfe4dec58d37",
   "metadata": {},
   "outputs": [
    {
     "data": {
      "text/plain": [
       "tensor([[0., 0., 0., 0., 0.],\n",
       "        [0., 0., 0., 0., 0.],\n",
       "        [0., 0., 0., 0., 0.],\n",
       "        [0., 0., 0., 0., 0.],\n",
       "        [0., 0., 0., 0., 0.]])"
      ]
     },
     "execution_count": 43,
     "metadata": {},
     "output_type": "execute_result"
    }
   ],
   "source": [
    "x = torch.randn(200, 100)\n",
    "for i in range(50): x = x @ (torch.randn(100, 100) * 0.01)\n",
    "x[:5,:5]"
   ]
  },
  {
   "cell_type": "code",
   "execution_count": 44,
   "id": "8eb60df7-ec70-4f28-8efe-31c8eea5d24d",
   "metadata": {},
   "outputs": [
    {
     "data": {
      "text/plain": [
       "tensor([[ 1.33, -1.54,  0.54,  0.13,  3.51],\n",
       "        [ 0.20,  0.95,  0.61, -0.02,  1.73],\n",
       "        [-0.69,  1.72,  0.36, -0.64, -2.40],\n",
       "        [ 0.03,  0.73,  0.40, -1.24, -0.64],\n",
       "        [ 0.33, -0.33,  0.03, -0.32,  0.62]])"
      ]
     },
     "execution_count": 44,
     "metadata": {},
     "output_type": "execute_result"
    }
   ],
   "source": [
    "x = torch.randn(200, 100)\n",
    "for i in range(50): x = x @ (torch.randn(100, 100) * 0.1)\n",
    "x[:5,:5]"
   ]
  },
  {
   "cell_type": "code",
   "execution_count": 45,
   "id": "629a305e-9ed8-4b94-9b4e-29aff333d82c",
   "metadata": {},
   "outputs": [],
   "source": [
    "t = torch.tensor([1.,2.,4.,18])"
   ]
  },
  {
   "cell_type": "code",
   "execution_count": 46,
   "id": "0b3c1bba-4010-4a24-9487-7534577f13b8",
   "metadata": {},
   "outputs": [
    {
     "data": {
      "text/plain": [
       "tensor(6.25)"
      ]
     },
     "execution_count": 46,
     "metadata": {},
     "output_type": "execute_result"
    }
   ],
   "source": [
    "m = t.mean()\n",
    "m"
   ]
  },
  {
   "cell_type": "code",
   "execution_count": 47,
   "id": "7b1f5fc6-e679-4511-9584-fb8de0194e06",
   "metadata": {},
   "outputs": [
    {
     "data": {
      "text/plain": [
       "tensor(0.)"
      ]
     },
     "execution_count": 47,
     "metadata": {},
     "output_type": "execute_result"
    }
   ],
   "source": [
    "(t-m).mean()"
   ]
  },
  {
   "cell_type": "code",
   "execution_count": 48,
   "id": "63507c71-fdec-416d-9213-a7c5aff9b206",
   "metadata": {},
   "outputs": [
    {
     "data": {
      "text/plain": [
       "tensor(47.19)"
      ]
     },
     "execution_count": 48,
     "metadata": {},
     "output_type": "execute_result"
    }
   ],
   "source": [
    "(t-m).pow(2).mean()"
   ]
  },
  {
   "cell_type": "code",
   "execution_count": 49,
   "id": "97fa70ab-1f9f-4096-958a-8ef83ed8b88c",
   "metadata": {},
   "outputs": [
    {
     "data": {
      "text/plain": [
       "tensor(5.88)"
      ]
     },
     "execution_count": 49,
     "metadata": {},
     "output_type": "execute_result"
    }
   ],
   "source": [
    "(t-m).abs().mean()"
   ]
  },
  {
   "cell_type": "code",
   "execution_count": 50,
   "id": "170d1d86-fc8e-4a25-9194-a851722ee5fc",
   "metadata": {},
   "outputs": [
    {
     "data": {
      "text/plain": [
       "tensor(6.87)"
      ]
     },
     "execution_count": 50,
     "metadata": {},
     "output_type": "execute_result"
    }
   ],
   "source": [
    "(t-m).pow(2).mean().sqrt()"
   ]
  },
  {
   "cell_type": "code",
   "execution_count": 51,
   "id": "916f872a-9190-4bfc-a584-3973f6360274",
   "metadata": {},
   "outputs": [
    {
     "data": {
      "text/plain": [
       "(tensor(47.19), tensor(47.19))"
      ]
     },
     "execution_count": 51,
     "metadata": {},
     "output_type": "execute_result"
    }
   ],
   "source": [
    "(t-m).pow(2).mean(), (t*t).mean() - (m*m)"
   ]
  },
  {
   "cell_type": "markdown",
   "id": "abadaa42-0bd9-4eb6-901f-997edcef966d",
   "metadata": {},
   "source": [
    "### Covariance\n",
    "\n",
    "Here's how Wikipedia defines covariance:\n",
    "\n",
    "$$\\operatorname{cov}(X,Y) = \\operatorname{E}{\\big[(X - \\operatorname{E}[X])(Y - \\operatorname{E}[Y])\\big]}$$"
   ]
  },
  {
   "cell_type": "code",
   "execution_count": 52,
   "id": "337dea93-c19e-4e75-81a7-4af770403add",
   "metadata": {},
   "outputs": [
    {
     "data": {
      "text/plain": [
       "tensor([ 1.,  2.,  4., 18.])"
      ]
     },
     "execution_count": 52,
     "metadata": {},
     "output_type": "execute_result"
    }
   ],
   "source": [
    "t"
   ]
  },
  {
   "cell_type": "code",
   "execution_count": 53,
   "id": "af5ed518-c97f-4eaa-89b6-dd908cbafdf2",
   "metadata": {},
   "outputs": [
    {
     "data": {
      "image/png": "[encoded data removed]",
      "text/plain": [
       "<Figure size 432x288 with 1 Axes>"
      ]
     },
     "metadata": {
      "needs_background": "light"
     },
     "output_type": "display_data"
    }
   ],
   "source": [
    "u = t * 2\n",
    "u *= torch.randn_like(t)/10 + 0.95\n",
    "\n",
    "plt.scatter(t, u);"
   ]
  },
  {
   "cell_type": "code",
   "execution_count": 54,
   "id": "0d7ddc4b-2a4d-45ef-a95c-ab4f84412f0e",
   "metadata": {},
   "outputs": [
    {
     "data": {
      "text/plain": [
       "tensor([ 51.67,  35.81,  11.57, 275.08])"
      ]
     },
     "execution_count": 54,
     "metadata": {},
     "output_type": "execute_result"
    }
   ],
   "source": [
    "prod = (t-t.mean())*(u-u.mean()); prod"
   ]
  },
  {
   "cell_type": "code",
   "execution_count": 55,
   "id": "e934843d-2197-404b-9a2f-4cbb32fb7453",
   "metadata": {},
   "outputs": [
    {
     "data": {
      "text/plain": [
       "tensor(93.53)"
      ]
     },
     "execution_count": 55,
     "metadata": {},
     "output_type": "execute_result"
    }
   ],
   "source": [
    "prod.mean()"
   ]
  },
  {
   "cell_type": "code",
   "execution_count": 56,
   "id": "1d864ea1-8872-4a2f-bc3e-50d212a8ea5e",
   "metadata": {},
   "outputs": [
    {
     "data": {
      "image/png": "[encoded data removed]",
      "text/plain": [
       "<Figure size 432x288 with 1 Axes>"
      ]
     },
     "metadata": {
      "needs_background": "light"
     },
     "output_type": "display_data"
    }
   ],
   "source": [
    "v = torch.randn_like(t)\n",
    "plt.scatter(t, v);"
   ]
  },
  {
   "cell_type": "code",
   "execution_count": 57,
   "id": "5d1fdd04-04f6-451b-bf3a-ea411aeb5e2f",
   "metadata": {},
   "outputs": [
    {
     "data": {
      "text/plain": [
       "tensor(2.91)"
      ]
     },
     "execution_count": 57,
     "metadata": {},
     "output_type": "execute_result"
    }
   ],
   "source": [
    "((t-t.mean())*(v-v.mean())).mean()"
   ]
  },
  {
   "cell_type": "code",
   "execution_count": 58,
   "id": "2c30b65a-59bb-4663-aad3-5576f50421bc",
   "metadata": {},
   "outputs": [
    {
     "data": {
      "text/plain": [
       "tensor(2.91)"
      ]
     },
     "execution_count": 58,
     "metadata": {},
     "output_type": "execute_result"
    }
   ],
   "source": [
    "cov = (t*v).mean() - t.mean()*v.mean(); cov"
   ]
  },
  {
   "cell_type": "code",
   "execution_count": 59,
   "id": "9a9bbe38-0288-4d50-a959-86cdc6d26110",
   "metadata": {},
   "outputs": [
    {
     "data": {
      "text/plain": [
       "tensor(0.34)"
      ]
     },
     "execution_count": 59,
     "metadata": {},
     "output_type": "execute_result"
    }
   ],
   "source": [
    "cov / (t.std() * v.std())"
   ]
  },
  {
   "cell_type": "code",
   "execution_count": 60,
   "id": "ca00deb2-5235-4d10-ab48-78c544f1bfb5",
   "metadata": {},
   "outputs": [
    {
     "data": {
      "text/plain": [
       "tensor(0.75)"
      ]
     },
     "execution_count": 60,
     "metadata": {},
     "output_type": "execute_result"
    }
   ],
   "source": [
    "prod.mean() / (t.std() * u.std())"
   ]
  },
  {
   "cell_type": "code",
   "execution_count": 61,
   "id": "f45e6383-3575-461a-8104-442de558cab7",
   "metadata": {},
   "outputs": [
    {
     "data": {
      "text/plain": [
       "tensor(1.13)"
      ]
     },
     "execution_count": 61,
     "metadata": {},
     "output_type": "execute_result"
    }
   ],
   "source": [
    "x.std()"
   ]
  },
  {
   "cell_type": "markdown",
   "id": "6146dcce-cb12-4dd9-82fa-faddea51d338",
   "metadata": {},
   "source": [
    "### Kaiming/He init"
   ]
  },
  {
   "cell_type": "code",
   "execution_count": 73,
   "id": "38149ab5-5425-47f5-8cfe-2671aee2489f",
   "metadata": {},
   "outputs": [
    {
     "data": {
      "text/plain": [
       "(tensor(0.01), tensor(1.01), tensor(-0.16), tensor(1.02))"
      ]
     },
     "execution_count": 73,
     "metadata": {},
     "output_type": "execute_result"
    }
   ],
   "source": [
    "x = torch.randn(200,100)\n",
    "y = torch.randn(100)\n",
    "x.mean(), x.std(), y.mean(), y.std()"
   ]
  },
  {
   "cell_type": "code",
   "execution_count": 63,
   "id": "116d84e6-7040-4c44-b45e-ecdc2a9d1521",
   "metadata": {},
   "outputs": [],
   "source": [
    "from math import sqrt"
   ]
  },
  {
   "cell_type": "code",
   "execution_count": 66,
   "id": "5e68ce4e-6874-4dbe-82e0-e34648a6d571",
   "metadata": {},
   "outputs": [],
   "source": [
    "w1 = torch.randn(100,50) / sqrt(100)\n",
    "b1 = torch.zeros(50)\n",
    "w2 = torch.randn(50,1) / sqrt(50)\n",
    "b2 = torch.zeros(1)"
   ]
  },
  {
   "cell_type": "code",
   "execution_count": 74,
   "id": "2b4e1004-eee7-4be9-8715-1baba9a18a73",
   "metadata": {},
   "outputs": [
    {
     "data": {
      "text/plain": [
       "(tensor(0.00), tensor(0.10), tensor(-0.01), tensor(0.13))"
      ]
     },
     "execution_count": 74,
     "metadata": {},
     "output_type": "execute_result"
    }
   ],
   "source": [
    "w1.mean(), w1.std(), w2.mean(), w2.std()"
   ]
  },
  {
   "cell_type": "code",
   "execution_count": 75,
   "id": "e302bc46-3f00-4520-84df-09db4db83736",
   "metadata": {},
   "outputs": [],
   "source": [
    "def lin(x, w, b): return x @ w + b"
   ]
  },
  {
   "cell_type": "code",
   "execution_count": 76,
   "id": "d00aca7a-4365-4ed3-9293-787404ff4bb3",
   "metadata": {},
   "outputs": [],
   "source": [
    "l1 = lin(x, w1, b1)"
   ]
  },
  {
   "cell_type": "code",
   "execution_count": 77,
   "id": "1216b2ed-d61d-495c-b0c1-63c3556ecc99",
   "metadata": {},
   "outputs": [
    {
     "data": {
      "text/plain": [
       "(tensor(-0.02), tensor(0.99))"
      ]
     },
     "execution_count": 77,
     "metadata": {},
     "output_type": "execute_result"
    }
   ],
   "source": [
    "l1.mean(), l1.std()"
   ]
  },
  {
   "cell_type": "code",
   "execution_count": 82,
   "id": "3b921120-8940-4092-b85a-c7a527965f06",
   "metadata": {},
   "outputs": [],
   "source": [
    "def relu(x): return x.clamp_min(0.)"
   ]
  },
  {
   "cell_type": "code",
   "execution_count": 83,
   "id": "364c5eb1-b086-4810-b42b-073141397f8c",
   "metadata": {},
   "outputs": [
    {
     "data": {
      "text/plain": [
       "tensor([[    0.00,     0.00,     0.00,     0.00,     0.00],\n",
       "        [    0.00,     0.00,     0.00,     0.00,     0.00],\n",
       "        [    0.00,     0.00,     0.00,     0.00,     0.00],\n",
       "        [    0.00,     0.00,     0.00,     0.00,     0.00],\n",
       "        [    0.00,     0.00,     0.00,     0.00,     0.00]])"
      ]
     },
     "execution_count": 83,
     "metadata": {},
     "output_type": "execute_result"
    }
   ],
   "source": [
    "x = torch.randn(200, 100)\n",
    "for i in range(50): x = relu(x @ (torch.randn(100,100) * 0.1))\n",
    "x[:5, :5]"
   ]
  },
  {
   "cell_type": "markdown",
   "id": "7b06705a-9522-4b78-a686-b0de672673f0",
   "metadata": {},
   "source": [
    "In [\"Delving Deep into Rectifiers: Surpassing Human-Level Performance\"](https://arxiv.org/abs/1502.01852) Kaiming He et al. show that we should use the following scale instead: $\\sqrt{2 / n_{in}}$, where $n_{in}$ is the number of inputs of our model."
   ]
  },
  {
   "cell_type": "code",
   "execution_count": 84,
   "id": "fde28550-e3d8-402e-a3db-5261d21b27de",
   "metadata": {},
   "outputs": [
    {
     "data": {
      "text/plain": [
       "tensor([[0.00, 0.83, 0.00, 0.75, 0.00],\n",
       "        [0.00, 0.29, 0.00, 0.40, 0.00],\n",
       "        [0.00, 0.29, 0.00, 0.43, 0.00],\n",
       "        [0.00, 0.27, 0.00, 0.33, 0.00],\n",
       "        [0.00, 0.18, 0.00, 0.28, 0.00]])"
      ]
     },
     "execution_count": 84,
     "metadata": {},
     "output_type": "execute_result"
    }
   ],
   "source": [
    "x = torch.randn(200, 100)\n",
    "for i in range(50): x = relu(x @ (torch.randn(100,100) * sqrt(2/100)))\n",
    "x[:5, :5]"
   ]
  },
  {
   "cell_type": "code",
   "execution_count": 90,
   "id": "c4e159cd-9ba8-45a2-af34-6535a6a21553",
   "metadata": {},
   "outputs": [
    {
     "name": "stdout",
     "output_type": "stream",
     "text": [
      "Conv2d\n",
      "ReLU\n",
      "Sequential\n",
      "Conv2d\n",
      "ReLU\n",
      "Sequential\n",
      "Conv2d\n",
      "ReLU\n",
      "Sequential\n",
      "Conv2d\n",
      "ReLU\n",
      "Sequential\n",
      "Conv2d\n",
      "Flatten\n",
      "Sequential\n"
     ]
    }
   ],
   "source": [
    "model = get_model()\n",
    "model.apply(lambda m: print(type(m).__name__));"
   ]
  },
  {
   "cell_type": "code",
   "execution_count": 93,
   "id": "afc38fa2-753f-4128-8952-263de21ec7e8",
   "metadata": {},
   "outputs": [
    {
     "name": "stdout",
     "output_type": "stream",
     "text": [
      "Sequential\n",
      "Sequential\n",
      "Sequential\n",
      "Sequential\n",
      "Conv2d\n",
      "Flatten\n"
     ]
    }
   ],
   "source": [
    "for m in model.children():\n",
    "    print(type(m).__name__)"
   ]
  },
  {
   "cell_type": "code",
   "execution_count": 94,
   "id": "35eda892-903b-403e-93e2-e0cbea05d8d7",
   "metadata": {},
   "outputs": [
    {
     "name": "stdout",
     "output_type": "stream",
     "text": [
      "Sequential\n",
      "Sequential\n",
      "Conv2d\n",
      "ReLU\n",
      "Sequential\n",
      "Conv2d\n",
      "ReLU\n",
      "Sequential\n",
      "Conv2d\n",
      "ReLU\n",
      "Sequential\n",
      "Conv2d\n",
      "ReLU\n",
      "Conv2d\n",
      "Flatten\n"
     ]
    }
   ],
   "source": [
    "for m in model.modules():\n",
    "    print(type(m).__name__)"
   ]
  },
  {
   "cell_type": "code",
   "execution_count": 95,
   "id": "5d65edf5-1ab7-4d41-bec4-2732636b4d76",
   "metadata": {},
   "outputs": [],
   "source": [
    "def init_weights(m):\n",
    "    if isinstance(m, (nn.Conv1d, nn.Conv2d, nn.Conv3d)): init.kaiming_normal_(m.weight)"
   ]
  },
  {
   "cell_type": "code",
   "execution_count": 97,
   "id": "4028efc8-3159-45e2-a043-80e8e275606e",
   "metadata": {},
   "outputs": [],
   "source": [
    "model.apply(init_weights);"
   ]
  },
  {
   "cell_type": "code",
   "execution_count": 98,
   "id": "5581fb64-a23e-4026-9a22-835e6f0130bd",
   "metadata": {},
   "outputs": [
    {
     "data": {
      "image/png": "[encoded data removed]",
      "text/plain": [
       "<Figure size 432x288 with 1 Axes>"
      ]
     },
     "metadata": {
      "needs_background": "light"
     },
     "output_type": "display_data"
    }
   ],
   "source": [
    "MomentumLearner(model, dls, F.cross_entropy, cbs=[DeviceCB()]).lr_find()"
   ]
  },
  {
   "cell_type": "code",
   "execution_count": 99,
   "id": "4a19bf09-9c6b-4f25-bdc3-aef20ec9849b",
   "metadata": {},
   "outputs": [],
   "source": [
    "set_seed(42)\n",
    "learn = MomentumLearner(get_model().apply(init_weights), dls, F.cross_entropy, lr=0.1, cbs=cbs)"
   ]
  },
  {
   "cell_type": "code",
   "execution_count": 100,
   "id": "f0a15fe3-f658-40c1-b485-110552bf858d",
   "metadata": {},
   "outputs": [
    {
     "data": {
      "text/html": [
       "\n",
       "<style>\n",
       "    /* Turns off some styling */\n",
       "    progress {\n",
       "        /* gets rid of default border in Firefox and Opera. */\n",
       "        border: none;\n",
       "        /* Needs to be in here for Safari polyfill so background images work as expected. */\n",
       "        background-size: auto;\n",
       "    }\n",
       "    progress:not([value]), progress:not([value])::-webkit-progress-bar {\n",
       "        background: repeating-linear-gradient(45deg, #7e7e7e, #7e7e7e 10px, #5c5c5c 10px, #5c5c5c 20px);\n",
       "    }\n",
       "    .progress-bar-interrupted, .progress-bar-interrupted::-webkit-progress-bar {\n",
       "        background: #F44336;\n",
       "    }\n",
       "</style>\n"
      ],
      "text/plain": [
       "<IPython.core.display.HTML object>"
      ]
     },
     "metadata": {},
     "output_type": "display_data"
    },
    {
     "data": {
      "text/html": [
       "<table border=\"1\" class=\"dataframe\">\n",
       "  <thead>\n",
       "    <tr style=\"text-align: left;\">\n",
       "      <th>accuracy</th>\n",
       "      <th>loss</th>\n",
       "      <th>epoch</th>\n",
       "      <th>train</th>\n",
       "    </tr>\n",
       "  </thead>\n",
       "  <tbody>\n",
       "    <tr>\n",
       "      <td>0.634</td>\n",
       "      <td>1.071</td>\n",
       "      <td>0</td>\n",
       "      <td>train</td>\n",
       "    </tr>\n",
       "    <tr>\n",
       "      <td>0.800</td>\n",
       "      <td>0.547</td>\n",
       "      <td>0</td>\n",
       "      <td>eval</td>\n",
       "    </tr>\n",
       "    <tr>\n",
       "      <td>0.827</td>\n",
       "      <td>0.467</td>\n",
       "      <td>1</td>\n",
       "      <td>train</td>\n",
       "    </tr>\n",
       "    <tr>\n",
       "      <td>0.827</td>\n",
       "      <td>0.466</td>\n",
       "      <td>1</td>\n",
       "      <td>eval</td>\n",
       "    </tr>\n",
       "    <tr>\n",
       "      <td>0.852</td>\n",
       "      <td>0.400</td>\n",
       "      <td>2</td>\n",
       "      <td>train</td>\n",
       "    </tr>\n",
       "    <tr>\n",
       "      <td>0.848</td>\n",
       "      <td>0.416</td>\n",
       "      <td>2</td>\n",
       "      <td>eval</td>\n",
       "    </tr>\n",
       "  </tbody>\n",
       "</table>"
      ],
      "text/plain": [
       "<IPython.core.display.HTML object>"
      ]
     },
     "metadata": {},
     "output_type": "display_data"
    },
    {
     "data": {
      "image/png": "[encoded data removed]",
      "text/plain": [
       "<Figure size 432x288 with 1 Axes>"
      ]
     },
     "metadata": {},
     "output_type": "display_data"
    }
   ],
   "source": [
    "learn.fit(3)"
   ]
  },
  {
   "cell_type": "code",
   "execution_count": 101,
   "id": "1fcc76cf-3104-4c1d-918a-5ae63568a4f1",
   "metadata": {},
   "outputs": [
    {
     "data": {
      "image/png": "[encoded data removed]",
      "text/plain": [
       "<Figure size 792x360 with 4 Axes>"
      ]
     },
     "metadata": {},
     "output_type": "display_data"
    }
   ],
   "source": [
    "astats.color_dim()"
   ]
  },
  {
   "cell_type": "code",
   "execution_count": 102,
   "id": "e2cb4273-f6bb-49eb-a9c9-81fa51bec785",
   "metadata": {},
   "outputs": [
    {
     "data": {
      "image/png": "[encoded data removed]",
      "text/plain": [
       "<Figure size 720x288 with 2 Axes>"
      ]
     },
     "metadata": {
      "needs_background": "light"
     },
     "output_type": "display_data"
    }
   ],
   "source": [
    "astats.plot_stats()"
   ]
  },
  {
   "cell_type": "code",
   "execution_count": 108,
   "id": "684c3f1c-2c1a-4b09-b820-d1e6c3985da7",
   "metadata": {},
   "outputs": [
    {
     "data": {
      "text/plain": [
       "(tensor(0.29), tensor(0.35))"
      ]
     },
     "execution_count": 108,
     "metadata": {},
     "output_type": "execute_result"
    }
   ],
   "source": [
    "xmean, xstd = xb.mean(), xb.std()\n",
    "xmean, xstd"
   ]
  },
  {
   "cell_type": "markdown",
   "id": "595604b2-f7a1-4b4b-99ff-3eb32801ae43",
   "metadata": {},
   "source": [
    "### Input Normalization"
   ]
  },
  {
   "cell_type": "code",
   "execution_count": 107,
   "id": "4eeda1b0-bdf0-4acd-8718-ac47d0137db7",
   "metadata": {},
   "outputs": [],
   "source": [
    "class BatchTransformCB(Callback):\n",
    "    def __init__(self, tfm, on_train=True, on_valid=True): fc.store_attr()\n",
    "    \n",
    "    def before_batch(self, learn):\n",
    "        if (self.on_train and learn.training) or (self.on_valid and not learn.training):\n",
    "            learn.batch = self.tfm(learn.batch)"
   ]
  },
  {
   "cell_type": "code",
   "execution_count": 110,
   "id": "9571d5cb-1ce1-43b9-9717-94b5bed87916",
   "metadata": {},
   "outputs": [],
   "source": [
    "def _norm(b): return (b[0]-xmean)/xstd, b[1]\n",
    "norm = BatchTransformCB(_norm)"
   ]
  },
  {
   "cell_type": "code",
   "execution_count": 111,
   "id": "d6f1235a-c1f4-4818-beeb-cc5d7c1ad2c3",
   "metadata": {},
   "outputs": [],
   "source": [
    "set_seed(42)\n",
    "learn = MomentumLearner(get_model().apply(init_weights), dls, F.cross_entropy, lr=0.1, cbs=cbs+[norm])"
   ]
  },
  {
   "cell_type": "code",
   "execution_count": 112,
   "id": "bd3ccd84-bfef-4799-8f56-d83d279a5535",
   "metadata": {},
   "outputs": [
    {
     "data": {
      "text/html": [
       "\n",
       "<style>\n",
       "    /* Turns off some styling */\n",
       "    progress {\n",
       "        /* gets rid of default border in Firefox and Opera. */\n",
       "        border: none;\n",
       "        /* Needs to be in here for Safari polyfill so background images work as expected. */\n",
       "        background-size: auto;\n",
       "    }\n",
       "    progress:not([value]), progress:not([value])::-webkit-progress-bar {\n",
       "        background: repeating-linear-gradient(45deg, #7e7e7e, #7e7e7e 10px, #5c5c5c 10px, #5c5c5c 20px);\n",
       "    }\n",
       "    .progress-bar-interrupted, .progress-bar-interrupted::-webkit-progress-bar {\n",
       "        background: #F44336;\n",
       "    }\n",
       "</style>\n"
      ],
      "text/plain": [
       "<IPython.core.display.HTML object>"
      ]
     },
     "metadata": {},
     "output_type": "display_data"
    },
    {
     "data": {
      "text/html": [
       "<table border=\"1\" class=\"dataframe\">\n",
       "  <thead>\n",
       "    <tr style=\"text-align: left;\">\n",
       "      <th>accuracy</th>\n",
       "      <th>loss</th>\n",
       "      <th>epoch</th>\n",
       "      <th>train</th>\n",
       "    </tr>\n",
       "  </thead>\n",
       "  <tbody>\n",
       "    <tr>\n",
       "      <td>0.657</td>\n",
       "      <td>1.040</td>\n",
       "      <td>0</td>\n",
       "      <td>train</td>\n",
       "    </tr>\n",
       "    <tr>\n",
       "      <td>0.809</td>\n",
       "      <td>0.524</td>\n",
       "      <td>0</td>\n",
       "      <td>eval</td>\n",
       "    </tr>\n",
       "    <tr>\n",
       "      <td>0.837</td>\n",
       "      <td>0.442</td>\n",
       "      <td>1</td>\n",
       "      <td>train</td>\n",
       "    </tr>\n",
       "    <tr>\n",
       "      <td>0.839</td>\n",
       "      <td>0.433</td>\n",
       "      <td>1</td>\n",
       "      <td>eval</td>\n",
       "    </tr>\n",
       "    <tr>\n",
       "      <td>0.859</td>\n",
       "      <td>0.385</td>\n",
       "      <td>2</td>\n",
       "      <td>train</td>\n",
       "    </tr>\n",
       "    <tr>\n",
       "      <td>0.854</td>\n",
       "      <td>0.394</td>\n",
       "      <td>2</td>\n",
       "      <td>eval</td>\n",
       "    </tr>\n",
       "  </tbody>\n",
       "</table>"
      ],
      "text/plain": [
       "<IPython.core.display.HTML object>"
      ]
     },
     "metadata": {},
     "output_type": "display_data"
    },
    {
     "data": {
      "image/png": "[encoded data removed]",
      "text/plain": [
       "<Figure size 432x288 with 1 Axes>"
      ]
     },
     "metadata": {},
     "output_type": "display_data"
    }
   ],
   "source": [
    "learn.fit(3)"
   ]
  },
  {
   "cell_type": "markdown",
   "id": "681df8a8-6ad8-4647-a813-7d77cd66cbe0",
   "metadata": {},
   "source": [
    "We were using 1st batch's mean and std to normalize our batches, but we can compute mean and std for each batch dynamically and use them for normalizing."
   ]
  },
  {
   "cell_type": "code",
   "execution_count": 119,
   "id": "70bb5999-0270-4469-8147-bc6e38cb807b",
   "metadata": {},
   "outputs": [],
   "source": [
    "def _norm(b):\n",
    "    x, y = b\n",
    "    mean = x.mean(dim=(0,), keepdim=True)\n",
    "    std = x.std(dim=(0,), keepdim=True) + 1e-6\n",
    "    return (x - mean) / std, y"
   ]
  },
  {
   "cell_type": "code",
   "execution_count": 120,
   "id": "b658f018-75f1-4043-ab65-f6a4e3e0acb4",
   "metadata": {},
   "outputs": [],
   "source": [
    "norm = BatchTransformCB(_norm)"
   ]
  },
  {
   "cell_type": "code",
   "execution_count": 121,
   "id": "3efcf455-e4b9-4a53-83ed-9038428c15d0",
   "metadata": {},
   "outputs": [],
   "source": [
    "set_seed(42)\n",
    "learn = MomentumLearner(get_model().apply(init_weights), dls, F.cross_entropy, lr=0.1, cbs=cbs+[norm])"
   ]
  },
  {
   "cell_type": "code",
   "execution_count": 122,
   "id": "f3cf220d-94da-45bf-8217-5fe348cdc85e",
   "metadata": {},
   "outputs": [
    {
     "data": {
      "text/html": [
       "\n",
       "<style>\n",
       "    /* Turns off some styling */\n",
       "    progress {\n",
       "        /* gets rid of default border in Firefox and Opera. */\n",
       "        border: none;\n",
       "        /* Needs to be in here for Safari polyfill so background images work as expected. */\n",
       "        background-size: auto;\n",
       "    }\n",
       "    progress:not([value]), progress:not([value])::-webkit-progress-bar {\n",
       "        background: repeating-linear-gradient(45deg, #7e7e7e, #7e7e7e 10px, #5c5c5c 10px, #5c5c5c 20px);\n",
       "    }\n",
       "    .progress-bar-interrupted, .progress-bar-interrupted::-webkit-progress-bar {\n",
       "        background: #F44336;\n",
       "    }\n",
       "</style>\n"
      ],
      "text/plain": [
       "<IPython.core.display.HTML object>"
      ]
     },
     "metadata": {},
     "output_type": "display_data"
    },
    {
     "data": {
      "text/html": [
       "<table border=\"1\" class=\"dataframe\">\n",
       "  <thead>\n",
       "    <tr style=\"text-align: left;\">\n",
       "      <th>accuracy</th>\n",
       "      <th>loss</th>\n",
       "      <th>epoch</th>\n",
       "      <th>train</th>\n",
       "    </tr>\n",
       "  </thead>\n",
       "  <tbody>\n",
       "    <tr>\n",
       "      <td>0.710</td>\n",
       "      <td>0.841</td>\n",
       "      <td>0</td>\n",
       "      <td>train</td>\n",
       "    </tr>\n",
       "    <tr>\n",
       "      <td>0.817</td>\n",
       "      <td>0.503</td>\n",
       "      <td>0</td>\n",
       "      <td>eval</td>\n",
       "    </tr>\n",
       "    <tr>\n",
       "      <td>0.843</td>\n",
       "      <td>0.428</td>\n",
       "      <td>1</td>\n",
       "      <td>train</td>\n",
       "    </tr>\n",
       "    <tr>\n",
       "      <td>0.843</td>\n",
       "      <td>0.440</td>\n",
       "      <td>1</td>\n",
       "      <td>eval</td>\n",
       "    </tr>\n",
       "    <tr>\n",
       "      <td>0.863</td>\n",
       "      <td>0.375</td>\n",
       "      <td>2</td>\n",
       "      <td>train</td>\n",
       "    </tr>\n",
       "    <tr>\n",
       "      <td>0.863</td>\n",
       "      <td>0.387</td>\n",
       "      <td>2</td>\n",
       "      <td>eval</td>\n",
       "    </tr>\n",
       "    <tr>\n",
       "      <td>0.877</td>\n",
       "      <td>0.341</td>\n",
       "      <td>3</td>\n",
       "      <td>train</td>\n",
       "    </tr>\n",
       "    <tr>\n",
       "      <td>0.865</td>\n",
       "      <td>0.375</td>\n",
       "      <td>3</td>\n",
       "      <td>eval</td>\n",
       "    </tr>\n",
       "    <tr>\n",
       "      <td>0.883</td>\n",
       "      <td>0.321</td>\n",
       "      <td>4</td>\n",
       "      <td>train</td>\n",
       "    </tr>\n",
       "    <tr>\n",
       "      <td>0.870</td>\n",
       "      <td>0.360</td>\n",
       "      <td>4</td>\n",
       "      <td>eval</td>\n",
       "    </tr>\n",
       "    <tr>\n",
       "      <td>0.891</td>\n",
       "      <td>0.302</td>\n",
       "      <td>5</td>\n",
       "      <td>train</td>\n",
       "    </tr>\n",
       "    <tr>\n",
       "      <td>0.872</td>\n",
       "      <td>0.350</td>\n",
       "      <td>5</td>\n",
       "      <td>eval</td>\n",
       "    </tr>\n",
       "    <tr>\n",
       "      <td>0.895</td>\n",
       "      <td>0.286</td>\n",
       "      <td>6</td>\n",
       "      <td>train</td>\n",
       "    </tr>\n",
       "    <tr>\n",
       "      <td>0.875</td>\n",
       "      <td>0.341</td>\n",
       "      <td>6</td>\n",
       "      <td>eval</td>\n",
       "    </tr>\n",
       "    <tr>\n",
       "      <td>0.898</td>\n",
       "      <td>0.275</td>\n",
       "      <td>7</td>\n",
       "      <td>train</td>\n",
       "    </tr>\n",
       "    <tr>\n",
       "      <td>0.874</td>\n",
       "      <td>0.350</td>\n",
       "      <td>7</td>\n",
       "      <td>eval</td>\n",
       "    </tr>\n",
       "    <tr>\n",
       "      <td>0.901</td>\n",
       "      <td>0.267</td>\n",
       "      <td>8</td>\n",
       "      <td>train</td>\n",
       "    </tr>\n",
       "    <tr>\n",
       "      <td>0.880</td>\n",
       "      <td>0.334</td>\n",
       "      <td>8</td>\n",
       "      <td>eval</td>\n",
       "    </tr>\n",
       "    <tr>\n",
       "      <td>0.906</td>\n",
       "      <td>0.256</td>\n",
       "      <td>9</td>\n",
       "      <td>train</td>\n",
       "    </tr>\n",
       "    <tr>\n",
       "      <td>0.880</td>\n",
       "      <td>0.330</td>\n",
       "      <td>9</td>\n",
       "      <td>eval</td>\n",
       "    </tr>\n",
       "  </tbody>\n",
       "</table>"
      ],
      "text/plain": [
       "<IPython.core.display.HTML object>"
      ]
     },
     "metadata": {},
     "output_type": "display_data"
    },
    {
     "data": {
      "image/png": "[encoded data removed]",
      "text/plain": [
       "<Figure size 432x288 with 1 Axes>"
      ]
     },
     "metadata": {},
     "output_type": "display_data"
    }
   ],
   "source": [
    "learn.fit(10)"
   ]
  },
  {
   "cell_type": "code",
   "execution_count": 123,
   "id": "45d6098f-95d4-4a77-b75b-84bd243c827f",
   "metadata": {},
   "outputs": [
    {
     "data": {
      "image/png": "[encoded data removed]",
      "text/plain": [
       "<Figure size 792x360 with 4 Axes>"
      ]
     },
     "metadata": {},
     "output_type": "display_data"
    }
   ],
   "source": [
    "astats.color_dim()"
   ]
  },
  {
   "cell_type": "code",
   "execution_count": 124,
   "id": "b4ecfb76-7aa5-453b-844c-b6b11aac0885",
   "metadata": {},
   "outputs": [
    {
     "data": {
      "image/png": "[encoded data removed]",
      "text/plain": [
       "<Figure size 720x288 with 2 Axes>"
      ]
     },
     "metadata": {
      "needs_background": "light"
     },
     "output_type": "display_data"
    }
   ],
   "source": [
    "astats.plot_stats()"
   ]
  },
  {
   "cell_type": "markdown",
   "id": "a7c9d3b2-9956-49df-abb4-bcb5c576c627",
   "metadata": {},
   "source": [
    "#### Why not normalize across channels?\n",
    "\n",
    "This keeps relative color/feature intensity consistent. For example, if Red channels usually have higher values, you don’t want to flatten them down with a global average across all channels."
   ]
  },
  {
   "cell_type": "code",
   "execution_count": 132,
   "id": "04b29e26-ceb2-4868-8766-1ae8ced5b7b0",
   "metadata": {},
   "outputs": [],
   "source": [
    "@inplace\n",
    "def transformi(b):\n",
    "    b[xl] = [\n",
    "        (TF.to_tensor(o) - TF.to_tensor(o).mean(dim=(1, 2), keepdim=True)) /\n",
    "        (TF.to_tensor(o).std(dim=(1, 2), keepdim=True) + 1e-6)\n",
    "        for o in b[xl]\n",
    "    ] \n",
    "tds = dsd.with_transform(transformi)\n",
    "dls = DataLoaders.from_dd(tds, bs, num_workers=4)\n",
    "xb,yb = next(iter(dls.train))"
   ]
  },
  {
   "cell_type": "code",
   "execution_count": 131,
   "id": "bfeacf4e-d32f-4664-8207-8f32e7ef02ff",
   "metadata": {},
   "outputs": [
    {
     "data": {
      "text/plain": [
       "(tensor(    -0.00), tensor(1.00))"
      ]
     },
     "execution_count": 131,
     "metadata": {},
     "output_type": "execute_result"
    }
   ],
   "source": [
    "xb.mean(), xb.std()"
   ]
  },
  {
   "cell_type": "code",
   "execution_count": null,
   "id": "aaa27059-93c6-47fd-ae61-7073db91fcb0",
   "metadata": {},
   "outputs": [],
   "source": []
  }
 ],
 "metadata": {
  "kernelspec": {
   "display_name": "Python 3 (ipykernel)",
   "language": "python",
   "name": "python3"
  },
  "language_info": {
   "codemirror_mode": {
    "name": "ipython",
    "version": 3
   },
   "file_extension": ".py",
   "mimetype": "text/x-python",
   "name": "python",
   "nbconvert_exporter": "python",
   "pygments_lexer": "ipython3",
   "version": "3.9.13"
  }
 },
 "nbformat": 4,
 "nbformat_minor": 5
}
